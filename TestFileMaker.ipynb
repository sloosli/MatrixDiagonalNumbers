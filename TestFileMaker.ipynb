{
 "cells": [
  {
   "cell_type": "code",
   "execution_count": 1,
   "metadata": {},
   "outputs": [],
   "source": [
    "import random\n",
    "\n",
    "def make_file(n):\n",
    "    with open(\"tests/input%i.txt\" % (n), \"w\") as file:\n",
    "        file.write(str(n))\n",
    "        for i in range(n):\n",
    "            file.write(\"\\n\")\n",
    "            for i in range(n):\n",
    "                file.write(str(random.randint(0,9)) + \" \")\n"
   ]
  },
  {
   "cell_type": "code",
   "execution_count": 2,
   "metadata": {},
   "outputs": [
    {
     "name": "stdout",
     "output_type": "stream",
     "text": [
      "27\n",
      "input10.txt\n",
      "\n",
      "7\n",
      "input100.txt\n",
      "\n",
      "0\n",
      "input16.txt\n",
      "\n",
      "2\n",
      "input20.txt\n",
      "\n",
      "1234\n",
      "input5 (1234).txt\n",
      "\n",
      "5\n",
      "input5 (5).txt\n",
      "\n",
      "987\n",
      "input5 (987).txt\n",
      "\n",
      "Нет\n",
      "input5.txt\n",
      "\n"
     ]
    }
   ],
   "source": [
    "import os\n",
    "import subprocess\n",
    "\n",
    "files = sorted(os.listdir(path=\"./tests/\"))\n",
    "\n",
    "for file in files:\n",
    "    try:\n",
    "        ofile = file.replace(\"input\", \"output\")\n",
    "        subprocess.check_call([\"./MatrixDiagonal.exe\", \n",
    "                               \"./tests/\" + file, \n",
    "                               \"./tests_output/\" + ofile], \n",
    "                               universal_newlines=True)\n",
    "        out = open(\"./tests_output/\" + ofile, \"r\").read()\n",
    "        print(out, file, sep=\"\\n\", end=\"\\n\\n\")\n",
    "    except subprocess.CalledProcessError:\n",
    "        print(\"Приложение завершилось с ошибкой\")"
   ]
  },
  {
   "cell_type": "code",
   "execution_count": null,
   "metadata": {},
   "outputs": [],
   "source": []
  }
 ],
 "metadata": {
  "kernelspec": {
   "display_name": "Python 3",
   "language": "python",
   "name": "python3"
  },
  "language_info": {
   "codemirror_mode": {
    "name": "ipython",
    "version": 3
   },
   "file_extension": ".py",
   "mimetype": "text/x-python",
   "name": "python",
   "nbconvert_exporter": "python",
   "pygments_lexer": "ipython3",
   "version": "3.7.5"
  }
 },
 "nbformat": 4,
 "nbformat_minor": 2
}
